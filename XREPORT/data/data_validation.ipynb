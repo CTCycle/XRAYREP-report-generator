{
 "cells": [
  {
   "cell_type": "code",
   "execution_count": 1,
   "metadata": {},
   "outputs": [],
   "source": [
    "import os\n",
    "import pandas as pd\n",
    "\n",
    "# setting warnings\n",
    "import warnings\n",
    "warnings.simplefilter(action='ignore', category=Warning)\n",
    "\n",
    "# import modules and components\n",
    "from XREPORT.utils.preprocessing import find_images_path\n",
    "from XREPORT.utils.validation import DataValidation\n",
    "from XREPORT.config.pathfinder import IMG_DATA_PATH, DATA_PATH\n",
    "import XREPORT.config.configurations as cnf"
   ]
  },
  {
   "cell_type": "markdown",
   "metadata": {},
   "source": [
    "# Load data"
   ]
  },
  {
   "cell_type": "code",
   "execution_count": null,
   "metadata": {},
   "outputs": [],
   "source": [
    "# load data from csv, add paths to images \n",
    "file_loc = os.path.join(DATA_PATH, 'XREP_dataset.csv') \n",
    "dataset = pd.read_csv(file_loc, encoding = 'utf-8', sep =';', low_memory=False)\n",
    "dataset = find_images_path(IMG_DATA_PATH, dataset)\n",
    "\n",
    "# select subset of data\n",
    "total_samples = cnf.TRAIN_SAMPLES + cnf.TEST_SAMPLES\n",
    "subset = dataset.sample(n=total_samples, random_state=cnf.SEED)"
   ]
  },
  {
   "cell_type": "markdown",
   "metadata": {},
   "source": [
    "# Data validation"
   ]
  },
  {
   "cell_type": "markdown",
   "metadata": {},
   "source": [
    "## 1. Analysis of XREP dataset\n",
    "\n",
    "Analyze the entire XREPORT dataset"
   ]
  },
  {
   "cell_type": "markdown",
   "metadata": {},
   "source": [
    "### 1.1 Text analysis"
   ]
  },
  {
   "cell_type": "code",
   "execution_count": null,
   "metadata": {},
   "outputs": [],
   "source": [
    "total_text = dataset['text'].to_list()\n",
    "words_list = [x.split() for x in total_text]\n",
    "words_list = [item for sublist in words_list for item in sublist]\n",
    "print(words_list)"
   ]
  },
  {
   "cell_type": "markdown",
   "metadata": {},
   "source": [
    "## 2. Comparison of train and test datasets\n",
    "\n",
    "Analyze the XREPORT images dataset with different metrics. Compare the train and test datasets to explore possible differences between the two"
   ]
  },
  {
   "cell_type": "markdown",
   "metadata": {},
   "source": [
    "### 2.1 Pixel intensity histogram\n",
    "\n",
    "Evaluate the average pixel intensity of images from both the train and test datasets"
   ]
  },
  {
   "cell_type": "code",
   "execution_count": null,
   "metadata": {},
   "outputs": [],
   "source": [
    "# load train and test images as numpy arrays\n",
    "validator = DataValidation()\n",
    "print(f'\\nLoading pictures from train and test dataset. Current picture shape is {cnf.IMG_SHAPE[:-1]}\\n')\n",
    "# train_images = preprocessor.load_images(train_data['path'], cnf.picture_shape[:-1], \n",
    "#                                         as_tensor=False,  normalize=False)\n",
    "# test_images = preprocessor.load_images(test_data['path'], cnf.picture_shape[:-1], \n",
    "#                                        as_tensor=False, normalize=False)\n",
    "\n",
    "# # validate pixel intensity histograms for both datasets\n",
    "# print('\\nCalculating pixel intensity of images train and test sets\\n')\n",
    "# validator.pixel_intensity_histograms(train_images, test_images, val_path, names=['Train','Test'], plot_properties)\n",
    "\n",
    "# # split data into train and test dataset and start preprocessor\n",
    "# test_size = cnf.num_test_samples/total_samples\n",
    "# train_data, test_data = train_test_split(dataset, test_size=test_size, random_state=cnf.seed, plot_properties)"
   ]
  }
 ],
 "metadata": {
  "kernelspec": {
   "display_name": "Aquarius",
   "language": "python",
   "name": "python3"
  },
  "language_info": {
   "codemirror_mode": {
    "name": "ipython",
    "version": 3
   },
   "file_extension": ".py",
   "mimetype": "text/x-python",
   "name": "python",
   "nbconvert_exporter": "python",
   "pygments_lexer": "ipython3",
   "version": "3.10.14"
  }
 },
 "nbformat": 4,
 "nbformat_minor": 2
}
