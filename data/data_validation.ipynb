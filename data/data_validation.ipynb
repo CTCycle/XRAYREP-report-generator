{
 "cells": [
  {
   "cell_type": "code",
   "execution_count": null,
   "metadata": {},
   "outputs": [],
   "source": [
    "import os\n",
    "import sys\n",
    "import pandas as pd\n",
    "from sklearn.model_selection import train_test_split\n",
    "\n",
    "# setting warnings\n",
    "import warnings\n",
    "warnings.simplefilter(action='ignore', category = Warning)\n",
    "\n",
    "# add parent folder path to the namespace\n",
    "sys.path.append(os.path.dirname(os.getcwd()))\n",
    "\n",
    "# import modules and components\n",
    "from utils.data_assets import PreProcessing, DataValidation\n",
    "import utils.global_paths as globpt\n",
    "import configurations as cnf\n",
    "\n",
    "# specify relative paths from global paths and create subfolders\n",
    "images_path = os.path.join(globpt.data_path, 'images') \n",
    "val_path = os.path.join(globpt.data_path, 'validation')\n",
    "os.mkdir(images_path) if not os.path.exists(images_path) else None\n",
    "os.mkdir(val_path) if not os.path.exists(val_path) else None  "
   ]
  },
  {
   "cell_type": "markdown",
   "metadata": {},
   "source": [
    "# Load data"
   ]
  },
  {
   "cell_type": "code",
   "execution_count": null,
   "metadata": {},
   "outputs": [],
   "source": [
    "# initialize the preprocessing class\n",
    "preprocessor = PreProcessing()\n",
    "\n",
    "# load data from csv, add paths to images \n",
    "file_loc = os.path.join(globpt.data_path, 'XREP_dataset.csv') \n",
    "dataset = pd.read_csv(file_loc, encoding = 'utf-8', sep =';', low_memory=False)\n",
    "dataset = preprocessor.images_pathfinder(images_path, dataset, 'id')\n",
    "\n",
    "# select subset of data\n",
    "total_samples = cnf.num_train_samples + cnf.num_test_samples\n",
    "dataset = dataset.sample(n=total_samples, random_state=cnf.seed)\n",
    "\n",
    "# split data into train and test dataset and start preprocessor\n",
    "test_size = cnf.num_test_samples/total_samples\n",
    "train_data, test_data = train_test_split(dataset, test_size=test_size, random_state=cnf.seed)"
   ]
  },
  {
   "cell_type": "markdown",
   "metadata": {},
   "source": [
    "# 1. Data validation"
   ]
  },
  {
   "cell_type": "markdown",
   "metadata": {},
   "source": [
    "## 1.1 Evaluation report"
   ]
  },
  {
   "cell_type": "code",
   "execution_count": null,
   "metadata": {},
   "outputs": [],
   "source": [
    "print(f'Number of train samples: {train_data.shape[0]}')\n",
    "print(f'Number of test samples:  {test_data.shape[0]}')"
   ]
  },
  {
   "cell_type": "markdown",
   "metadata": {},
   "source": [
    "## 1.2 Generating pixel intensity histograms"
   ]
  },
  {
   "cell_type": "code",
   "execution_count": null,
   "metadata": {},
   "outputs": [],
   "source": [
    "validator = DataValidation()\n",
    "\n",
    "# load train and test images as numpy arrays\n",
    "train_images = preprocessor.load_images(train_data['images_path'], cnf.picture_shape[:-1], \n",
    "                                        as_tensor=False,  normalize=False)\n",
    "test_images = preprocessor.load_images(test_data['images_path'], cnf.picture_shape[:-1], \n",
    "                                       as_tensor=False, normalize=False)\n",
    "\n",
    "# validate pixel intensity histograms for both datasets\n",
    "validator.pixel_intensity_histograms(train_images, test_images, val_path, names=['Train','Test'])"
   ]
  }
 ],
 "metadata": {
  "kernelspec": {
   "display_name": "Aquarius",
   "language": "python",
   "name": "python3"
  },
  "language_info": {
   "codemirror_mode": {
    "name": "ipython",
    "version": 3
   },
   "file_extension": ".py",
   "mimetype": "text/x-python",
   "name": "python",
   "nbconvert_exporter": "python",
   "pygments_lexer": "ipython3",
   "version": "3.10.13"
  }
 },
 "nbformat": 4,
 "nbformat_minor": 2
}
