{
 "cells": [
  {
   "cell_type": "code",
   "execution_count": null,
   "metadata": {},
   "outputs": [],
   "source": [
    "import os\n",
    "import sys\n",
    "import pandas as pd\n",
    "from sklearn.model_selection import train_test_split\n",
    "\n",
    "# setting warnings\n",
    "import warnings\n",
    "warnings.simplefilter(action='ignore', category = Warning)\n",
    "\n",
    "# add parent folder path to the namespace\n",
    "sys.path.append(os.path.dirname(os.getcwd()))\n",
    "\n",
    "# import modules and components\n",
    "from utils.data_assets import PreProcessing, DataValidation\n",
    "import utils.global_paths as globpt\n",
    "import configurations as cnf\n",
    "\n",
    "# specify relative paths from global paths and create subfolders\n",
    "images_path = os.path.join(globpt.data_path, 'images') \n",
    "val_path = os.path.join(globpt.data_path, 'validation')\n",
    "os.mkdir(images_path) if not os.path.exists(images_path) else None\n",
    "os.mkdir(val_path) if not os.path.exists(val_path) else None  "
   ]
  },
  {
   "cell_type": "markdown",
   "metadata": {},
   "source": [
    "# Load data"
   ]
  },
  {
   "cell_type": "code",
   "execution_count": null,
   "metadata": {},
   "outputs": [],
   "source": [
    "# initialize the preprocessing class\n",
    "preprocessor = PreProcessing()\n",
    "\n",
    "# load data from csv, add paths to images \n",
    "file_loc = os.path.join(globpt.data_path, 'XREP_dataset.csv') \n",
    "dataset = pd.read_csv(file_loc, encoding = 'utf-8', sep =';', low_memory=False)\n",
    "dataset = preprocessor.find_images_path(images_path, dataset)\n",
    "\n",
    "# select subset of data\n",
    "total_samples = cnf.num_train_samples + cnf.num_test_samples\n",
    "dataset = dataset.sample(n=total_samples, random_state=cnf.seed)\n",
    "\n",
    "# split data into train and test dataset and start preprocessor\n",
    "test_size = cnf.num_test_samples/total_samples\n",
    "train_data, test_data = train_test_split(dataset, test_size=test_size, random_state=cnf.seed)"
   ]
  },
  {
   "cell_type": "markdown",
   "metadata": {},
   "source": [
    "# Data validation"
   ]
  },
  {
   "cell_type": "markdown",
   "metadata": {},
   "source": [
    "## 1. Images analysis\n",
    "\n",
    "Analyze the XREPORT images dataset with different metrics. Compare the train and test datasets to explore possible differences between the two"
   ]
  },
  {
   "cell_type": "markdown",
   "metadata": {},
   "source": [
    "### 1.1 Pixel intensity histogram"
   ]
  },
  {
   "cell_type": "code",
   "execution_count": null,
   "metadata": {},
   "outputs": [],
   "source": [
    "validator = DataValidation()\n",
    "\n",
    "# load train and test images as numpy arrays\n",
    "print(f'\\nLoading pictures from train and test dataset. Current picture shape is {cnf.picture_shape[:-1]}\\n')\n",
    "train_images = preprocessor.load_images(train_data['path'], cnf.picture_shape[:-1], \n",
    "                                        as_tensor=False,  normalize=False)\n",
    "test_images = preprocessor.load_images(test_data['path'], cnf.picture_shape[:-1], \n",
    "                                       as_tensor=False, normalize=False)\n",
    "\n",
    "# validate pixel intensity histograms for both datasets\n",
    "print('\\nCalculating pixel intensity of images train and test sets\\n')\n",
    "validator.pixel_intensity_histograms(train_images, test_images, val_path, names=['Train','Test'])"
   ]
  },
  {
   "cell_type": "markdown",
   "metadata": {},
   "source": [
    "### 2. Text analysis"
   ]
  },
  {
   "cell_type": "code",
   "execution_count": null,
   "metadata": {},
   "outputs": [],
   "source": [
    "total_text = dataset['text'].to_list()\n",
    "words_list = [x.split() for x in total_text]\n",
    "words_list = [item for sublist in words_list for item in sublist]\n",
    "print(words_list)"
   ]
  }
 ],
 "metadata": {
  "kernelspec": {
   "display_name": "Aquarius",
   "language": "python",
   "name": "python3"
  },
  "language_info": {
   "codemirror_mode": {
    "name": "ipython",
    "version": 3
   },
   "file_extension": ".py",
   "mimetype": "text/x-python",
   "name": "python",
   "nbconvert_exporter": "python",
   "pygments_lexer": "ipython3",
   "version": "3.10.13"
  }
 },
 "nbformat": 4,
 "nbformat_minor": 2
}
